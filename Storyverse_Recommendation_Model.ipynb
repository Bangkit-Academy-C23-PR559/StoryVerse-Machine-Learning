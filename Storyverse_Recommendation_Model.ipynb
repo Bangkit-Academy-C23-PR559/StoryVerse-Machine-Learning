{
  "nbformat": 4,
  "nbformat_minor": 0,
  "metadata": {
    "colab": {
      "provenance": []
    },
    "kernelspec": {
      "name": "python3",
      "display_name": "Python 3"
    },
    "language_info": {
      "name": "python"
    }
  },
  "cells": [
    {
      "cell_type": "code",
      "execution_count": 32,
      "metadata": {
        "id": "kjwppQBBqOFb"
      },
      "outputs": [],
      "source": [
        "from google.colab import drive"
      ]
    },
    {
      "cell_type": "code",
      "execution_count": 33,
      "metadata": {
        "id": "a7d0zrkKtLk_"
      },
      "outputs": [],
      "source": [
        "import pandas as pd\n",
        "import re\n",
        "import numpy as np"
      ]
    },
    {
      "cell_type": "code",
      "execution_count": 34,
      "metadata": {
        "id": "FKGCNEuqtPpg"
      },
      "outputs": [],
      "source": [
        "from sklearn.model_selection import train_test_split"
      ]
    },
    {
      "cell_type": "code",
      "execution_count": 35,
      "metadata": {
        "id": "YBwUxB09tVA9"
      },
      "outputs": [],
      "source": [
        "import tensorflow as tf\n",
        "from tensorflow import keras\n",
        "from tensorflow.keras.preprocessing.text import Tokenizer\n",
        "from tensorflow.keras.preprocessing import text, sequence\n",
        "from tensorflow.keras.layers import LSTM,Dense,Embedding,Dropout\n",
        "from tensorflow.keras.layers import Input\n",
        "from tensorflow.keras.layers import Concatenate\n",
        "from tensorflow.keras.models import Model\n",
        "from tensorflow.keras.models import Sequential\n",
        "from tensorflow.keras.optimizers import Adam"
      ]
    },
    {
      "cell_type": "code",
      "execution_count": 36,
      "metadata": {
        "id": "F0uvXyv5tYWr"
      },
      "outputs": [],
      "source": [
        "import matplotlib.pyplot as plt"
      ]
    },
    {
      "cell_type": "code",
      "execution_count": 37,
      "metadata": {
        "colab": {
          "base_uri": "https://localhost:8080/"
        },
        "id": "zEGTa6Z2rGv-",
        "outputId": "b1e8c4c7-2897-4927-c021-a011b06bb52e"
      },
      "outputs": [
        {
          "output_type": "stream",
          "name": "stdout",
          "text": [
            "Drive already mounted at /content/drive/; to attempt to forcibly remount, call drive.mount(\"/content/drive/\", force_remount=True).\n"
          ]
        }
      ],
      "source": [
        "drive.mount('/content/drive/')"
      ]
    },
    {
      "cell_type": "code",
      "execution_count": 38,
      "metadata": {
        "id": "hXhCpvvIFe_9",
        "colab": {
          "base_uri": "https://localhost:8080/",
          "height": 337
        },
        "outputId": "81ae5ba8-2ff2-4e64-9ef2-6ca2321c2b41"
      },
      "outputs": [
        {
          "output_type": "execute_result",
          "data": {
            "text/plain": [
              "                                             Title                  Author  \\\n",
              "0     Reflections as a Senior: My Favorite Moments     Mayoma Jolayemi '23   \n",
              "1  The Transformative Power of a Bachelor’s Degree            Clive Walker   \n",
              "2             Managing stress in College Academics             Vivek Rajak   \n",
              "3                            My college experience         Laurent Etienne   \n",
              "4                 Pengalaman Memulai Jualan Pisang  Masim \"Vavai\" Sugianto   \n",
              "\n",
              "                               Category  Pengalaman Pribadi  Kesehatan Mental  \\\n",
              "0                    Pengalaman Pribadi                   1                 0   \n",
              "1                    Pengalaman Pribadi                   1                 0   \n",
              "2  Pengalaman Pribadi, Kesehatan Mental                   1                 1   \n",
              "3                    Pengalaman Pribadi                   1                 0   \n",
              "4                    Pengalaman Pribadi                   1                 0   \n",
              "\n",
              "   Profesi  Percintaan  Mistis  \n",
              "0        0           0       0  \n",
              "1        0           0       0  \n",
              "2        0           0       0  \n",
              "3        0           0       0  \n",
              "4        0           0       0  "
            ],
            "text/html": [
              "\n",
              "  <div id=\"df-7f554b2d-0954-4f01-a937-b2cf8726d432\">\n",
              "    <div class=\"colab-df-container\">\n",
              "      <div>\n",
              "<style scoped>\n",
              "    .dataframe tbody tr th:only-of-type {\n",
              "        vertical-align: middle;\n",
              "    }\n",
              "\n",
              "    .dataframe tbody tr th {\n",
              "        vertical-align: top;\n",
              "    }\n",
              "\n",
              "    .dataframe thead th {\n",
              "        text-align: right;\n",
              "    }\n",
              "</style>\n",
              "<table border=\"1\" class=\"dataframe\">\n",
              "  <thead>\n",
              "    <tr style=\"text-align: right;\">\n",
              "      <th></th>\n",
              "      <th>Title</th>\n",
              "      <th>Author</th>\n",
              "      <th>Category</th>\n",
              "      <th>Pengalaman Pribadi</th>\n",
              "      <th>Kesehatan Mental</th>\n",
              "      <th>Profesi</th>\n",
              "      <th>Percintaan</th>\n",
              "      <th>Mistis</th>\n",
              "    </tr>\n",
              "  </thead>\n",
              "  <tbody>\n",
              "    <tr>\n",
              "      <th>0</th>\n",
              "      <td>Reflections as a Senior: My Favorite Moments</td>\n",
              "      <td>Mayoma Jolayemi '23</td>\n",
              "      <td>Pengalaman Pribadi</td>\n",
              "      <td>1</td>\n",
              "      <td>0</td>\n",
              "      <td>0</td>\n",
              "      <td>0</td>\n",
              "      <td>0</td>\n",
              "    </tr>\n",
              "    <tr>\n",
              "      <th>1</th>\n",
              "      <td>The Transformative Power of a Bachelor’s Degree</td>\n",
              "      <td>Clive Walker</td>\n",
              "      <td>Pengalaman Pribadi</td>\n",
              "      <td>1</td>\n",
              "      <td>0</td>\n",
              "      <td>0</td>\n",
              "      <td>0</td>\n",
              "      <td>0</td>\n",
              "    </tr>\n",
              "    <tr>\n",
              "      <th>2</th>\n",
              "      <td>Managing stress in College Academics</td>\n",
              "      <td>Vivek Rajak</td>\n",
              "      <td>Pengalaman Pribadi, Kesehatan Mental</td>\n",
              "      <td>1</td>\n",
              "      <td>1</td>\n",
              "      <td>0</td>\n",
              "      <td>0</td>\n",
              "      <td>0</td>\n",
              "    </tr>\n",
              "    <tr>\n",
              "      <th>3</th>\n",
              "      <td>My college experience</td>\n",
              "      <td>Laurent Etienne</td>\n",
              "      <td>Pengalaman Pribadi</td>\n",
              "      <td>1</td>\n",
              "      <td>0</td>\n",
              "      <td>0</td>\n",
              "      <td>0</td>\n",
              "      <td>0</td>\n",
              "    </tr>\n",
              "    <tr>\n",
              "      <th>4</th>\n",
              "      <td>Pengalaman Memulai Jualan Pisang</td>\n",
              "      <td>Masim \"Vavai\" Sugianto</td>\n",
              "      <td>Pengalaman Pribadi</td>\n",
              "      <td>1</td>\n",
              "      <td>0</td>\n",
              "      <td>0</td>\n",
              "      <td>0</td>\n",
              "      <td>0</td>\n",
              "    </tr>\n",
              "  </tbody>\n",
              "</table>\n",
              "</div>\n",
              "      <button class=\"colab-df-convert\" onclick=\"convertToInteractive('df-7f554b2d-0954-4f01-a937-b2cf8726d432')\"\n",
              "              title=\"Convert this dataframe to an interactive table.\"\n",
              "              style=\"display:none;\">\n",
              "        \n",
              "  <svg xmlns=\"http://www.w3.org/2000/svg\" height=\"24px\"viewBox=\"0 0 24 24\"\n",
              "       width=\"24px\">\n",
              "    <path d=\"M0 0h24v24H0V0z\" fill=\"none\"/>\n",
              "    <path d=\"M18.56 5.44l.94 2.06.94-2.06 2.06-.94-2.06-.94-.94-2.06-.94 2.06-2.06.94zm-11 1L8.5 8.5l.94-2.06 2.06-.94-2.06-.94L8.5 2.5l-.94 2.06-2.06.94zm10 10l.94 2.06.94-2.06 2.06-.94-2.06-.94-.94-2.06-.94 2.06-2.06.94z\"/><path d=\"M17.41 7.96l-1.37-1.37c-.4-.4-.92-.59-1.43-.59-.52 0-1.04.2-1.43.59L10.3 9.45l-7.72 7.72c-.78.78-.78 2.05 0 2.83L4 21.41c.39.39.9.59 1.41.59.51 0 1.02-.2 1.41-.59l7.78-7.78 2.81-2.81c.8-.78.8-2.07 0-2.86zM5.41 20L4 18.59l7.72-7.72 1.47 1.35L5.41 20z\"/>\n",
              "  </svg>\n",
              "      </button>\n",
              "      \n",
              "  <style>\n",
              "    .colab-df-container {\n",
              "      display:flex;\n",
              "      flex-wrap:wrap;\n",
              "      gap: 12px;\n",
              "    }\n",
              "\n",
              "    .colab-df-convert {\n",
              "      background-color: #E8F0FE;\n",
              "      border: none;\n",
              "      border-radius: 50%;\n",
              "      cursor: pointer;\n",
              "      display: none;\n",
              "      fill: #1967D2;\n",
              "      height: 32px;\n",
              "      padding: 0 0 0 0;\n",
              "      width: 32px;\n",
              "    }\n",
              "\n",
              "    .colab-df-convert:hover {\n",
              "      background-color: #E2EBFA;\n",
              "      box-shadow: 0px 1px 2px rgba(60, 64, 67, 0.3), 0px 1px 3px 1px rgba(60, 64, 67, 0.15);\n",
              "      fill: #174EA6;\n",
              "    }\n",
              "\n",
              "    [theme=dark] .colab-df-convert {\n",
              "      background-color: #3B4455;\n",
              "      fill: #D2E3FC;\n",
              "    }\n",
              "\n",
              "    [theme=dark] .colab-df-convert:hover {\n",
              "      background-color: #434B5C;\n",
              "      box-shadow: 0px 1px 3px 1px rgba(0, 0, 0, 0.15);\n",
              "      filter: drop-shadow(0px 1px 2px rgba(0, 0, 0, 0.3));\n",
              "      fill: #FFFFFF;\n",
              "    }\n",
              "  </style>\n",
              "\n",
              "      <script>\n",
              "        const buttonEl =\n",
              "          document.querySelector('#df-7f554b2d-0954-4f01-a937-b2cf8726d432 button.colab-df-convert');\n",
              "        buttonEl.style.display =\n",
              "          google.colab.kernel.accessAllowed ? 'block' : 'none';\n",
              "\n",
              "        async function convertToInteractive(key) {\n",
              "          const element = document.querySelector('#df-7f554b2d-0954-4f01-a937-b2cf8726d432');\n",
              "          const dataTable =\n",
              "            await google.colab.kernel.invokeFunction('convertToInteractive',\n",
              "                                                     [key], {});\n",
              "          if (!dataTable) return;\n",
              "\n",
              "          const docLinkHtml = 'Like what you see? Visit the ' +\n",
              "            '<a target=\"_blank\" href=https://colab.research.google.com/notebooks/data_table.ipynb>data table notebook</a>'\n",
              "            + ' to learn more about interactive tables.';\n",
              "          element.innerHTML = '';\n",
              "          dataTable['output_type'] = 'display_data';\n",
              "          await google.colab.output.renderOutput(dataTable, element);\n",
              "          const docLink = document.createElement('div');\n",
              "          docLink.innerHTML = docLinkHtml;\n",
              "          element.appendChild(docLink);\n",
              "        }\n",
              "      </script>\n",
              "    </div>\n",
              "  </div>\n",
              "  "
            ]
          },
          "metadata": {},
          "execution_count": 38
        }
      ],
      "source": [
        "dataframe = pd.read_csv(\"/content/drive/MyDrive/train.csv\")\n",
        "dataframe.head()"
      ]
    },
    {
      "cell_type": "code",
      "execution_count": 39,
      "metadata": {
        "id": "5TmHPMdE_MJr",
        "colab": {
          "base_uri": "https://localhost:8080/"
        },
        "outputId": "69512656-cd2d-45a0-b4bb-fe10b8b8a302"
      },
      "outputs": [
        {
          "output_type": "execute_result",
          "data": {
            "text/plain": [
              "(110, 8)"
            ]
          },
          "metadata": {},
          "execution_count": 39
        }
      ],
      "source": [
        "dataframe.shape"
      ]
    },
    {
      "cell_type": "code",
      "execution_count": 40,
      "metadata": {
        "id": "R_HxINEYoha-",
        "colab": {
          "base_uri": "https://localhost:8080/"
        },
        "outputId": "57fdc7c0-78cd-4362-9f16-0fe52659cd30"
      },
      "outputs": [
        {
          "output_type": "execute_result",
          "data": {
            "text/plain": [
              "Title                 string\n",
              "Author                object\n",
              "Category              object\n",
              "Pengalaman Pribadi     int64\n",
              "Kesehatan Mental       int64\n",
              "Profesi                int64\n",
              "Percintaan             int64\n",
              "Mistis                 int64\n",
              "dtype: object"
            ]
          },
          "metadata": {},
          "execution_count": 40
        }
      ],
      "source": [
        "dataframe.Title = dataframe.Title.astype('string')\n",
        "dataframe.dtypes"
      ]
    },
    {
      "cell_type": "code",
      "execution_count": 41,
      "metadata": {
        "id": "Y_LJA6ecp7ez",
        "colab": {
          "base_uri": "https://localhost:8080/"
        },
        "outputId": "600bfe78-04a0-4e16-c343-fe5655026102"
      },
      "outputs": [
        {
          "output_type": "execute_result",
          "data": {
            "text/plain": [
              "Title                 0\n",
              "Author                0\n",
              "Category              0\n",
              "Pengalaman Pribadi    0\n",
              "Kesehatan Mental      0\n",
              "Profesi               0\n",
              "Percintaan            0\n",
              "Mistis                0\n",
              "dtype: int64"
            ]
          },
          "metadata": {},
          "execution_count": 41
        }
      ],
      "source": [
        "dataframe.isnull().sum()"
      ]
    },
    {
      "cell_type": "code",
      "execution_count": 42,
      "metadata": {
        "id": "V_XWR00dx1ad"
      },
      "outputs": [],
      "source": [
        "Article = dataframe.Title.values\n",
        "y_fields = ['Pengalaman Pribadi',\t'Kesehatan Mental',\t'Profesi'\t,'Percintaan',\t'Mistis']\n",
        "y = dataframe[y_fields].values"
      ]
    },
    {
      "cell_type": "code",
      "execution_count": 43,
      "metadata": {
        "id": "j-ZTeBphBBBb"
      },
      "outputs": [],
      "source": [
        "test_x = pd.read_csv('/content/drive/MyDrive/test.csv')\n",
        "test_y = pd.read_csv('/content/drive/MyDrive/test_labels.csv')"
      ]
    },
    {
      "cell_type": "code",
      "execution_count": 44,
      "metadata": {
        "id": "8ZEZiLIlGqcI"
      },
      "outputs": [],
      "source": [
        "x_test = test_x['Title'].values\n",
        "y_test = test_y[y_fields].values"
      ]
    },
    {
      "cell_type": "code",
      "execution_count": 45,
      "metadata": {
        "id": "buYtPcCkG7_Z"
      },
      "outputs": [],
      "source": [
        "tokenizer = Tokenizer(num_words=20000)\n",
        "tokenizer.fit_on_texts(Article)\n",
        "\n",
        "# Tokenization of x_test\n",
        "tokenizer.fit_on_texts(x_test)"
      ]
    },
    {
      "cell_type": "code",
      "execution_count": 46,
      "metadata": {
        "id": "h1BzJajB-lD0"
      },
      "outputs": [],
      "source": [
        "sent_length = 110\n",
        "voc_size = 18000\n",
        "input_dim = 10"
      ]
    },
    {
      "cell_type": "code",
      "execution_count": 47,
      "metadata": {
        "id": "n4_sqkPmHQxq"
      },
      "outputs": [],
      "source": [
        "seq = tokenizer.texts_to_sequences(Article)\n",
        "pad = sequence.pad_sequences(seq, maxlen=110)\n",
        "\n",
        "test_seq = tokenizer.texts_to_sequences(x_test)\n",
        "test_pad = sequence.pad_sequences(test_seq, maxlen=110)"
      ]
    },
    {
      "cell_type": "code",
      "execution_count": 48,
      "metadata": {
        "id": "H_PxXdsL0pdV"
      },
      "outputs": [],
      "source": [
        "model = Sequential()\n",
        "model.add(Embedding(voc_size, input_dim, input_length=sent_length))\n",
        "model.add(LSTM(128, return_sequences=True)) \n",
        "model.add(LSTM(128))\n",
        "model.add(Dropout(0.2))\n",
        "model.add(Dense(128, activation='relu'))\n",
        "model.add(Dense(5, activation='softmax'))\n",
        "model.compile(loss='binary_crossentropy', optimizer=Adam(learning_rate=0.001), metrics=['accuracy'])"
      ]
    },
    {
      "cell_type": "code",
      "execution_count": 49,
      "metadata": {
        "id": "8tng83DnqkBF",
        "colab": {
          "base_uri": "https://localhost:8080/"
        },
        "outputId": "f2bf2776-9e9e-49b2-b057-566a85cae3f4"
      },
      "outputs": [
        {
          "output_type": "stream",
          "name": "stdout",
          "text": [
            "Model: \"sequential_1\"\n",
            "_________________________________________________________________\n",
            " Layer (type)                Output Shape              Param #   \n",
            "=================================================================\n",
            " embedding_1 (Embedding)     (None, 110, 10)           180000    \n",
            "                                                                 \n",
            " lstm_2 (LSTM)               (None, 110, 128)          71168     \n",
            "                                                                 \n",
            " lstm_3 (LSTM)               (None, 128)               131584    \n",
            "                                                                 \n",
            " dropout_1 (Dropout)         (None, 128)               0         \n",
            "                                                                 \n",
            " dense_2 (Dense)             (None, 128)               16512     \n",
            "                                                                 \n",
            " dense_3 (Dense)             (None, 5)                 645       \n",
            "                                                                 \n",
            "=================================================================\n",
            "Total params: 399,909\n",
            "Trainable params: 399,909\n",
            "Non-trainable params: 0\n",
            "_________________________________________________________________\n"
          ]
        }
      ],
      "source": [
        "model.summary()"
      ]
    },
    {
      "cell_type": "code",
      "execution_count": 50,
      "metadata": {
        "id": "GXU2LpO7-3CN",
        "colab": {
          "base_uri": "https://localhost:8080/"
        },
        "outputId": "80245799-410d-4d0b-910c-301b1c20edb3"
      },
      "outputs": [
        {
          "output_type": "execute_result",
          "data": {
            "text/plain": [
              "(110, (110, 5), 110, (110, 5))"
            ]
          },
          "metadata": {},
          "execution_count": 50
        }
      ],
      "source": [
        "len(pad), y.shape , len(test_pad), y_test.shape"
      ]
    },
    {
      "cell_type": "code",
      "execution_count": 51,
      "metadata": {
        "id": "su80_uj0yWR2"
      },
      "outputs": [],
      "source": [
        "x_train = np.array(pad)\n",
        "y_train = np.array(y) \n",
        "\n",
        "x_test = np.array(test_pad)\n",
        "y_test = np.array(y_test)"
      ]
    },
    {
      "cell_type": "code",
      "execution_count": 52,
      "metadata": {
        "id": "LNYfTMZ2yk9U",
        "colab": {
          "base_uri": "https://localhost:8080/"
        },
        "outputId": "b64ed55f-d29b-49b9-e6fe-d6d40076c4b3"
      },
      "outputs": [
        {
          "output_type": "execute_result",
          "data": {
            "text/plain": [
              "((110, 110), (110, 5), (110, 110), (110, 5))"
            ]
          },
          "metadata": {},
          "execution_count": 52
        }
      ],
      "source": [
        "x_train.shape , y_train.shape , x_test.shape, y_test.shape"
      ]
    },
    {
      "cell_type": "code",
      "execution_count": 53,
      "metadata": {
        "id": "RyeFxte1IOsW",
        "colab": {
          "base_uri": "https://localhost:8080/"
        },
        "outputId": "8d603bf2-7ffe-4f17-c7bf-25a6740683b8"
      },
      "outputs": [
        {
          "output_type": "stream",
          "name": "stdout",
          "text": [
            "Epoch 1/100\n",
            "2/2 [==============================] - 12s 3s/step - loss: 0.6912 - accuracy: 0.3818 - val_loss: 0.6839 - val_accuracy: 0.4455\n",
            "Epoch 2/100\n",
            "2/2 [==============================] - 2s 1s/step - loss: 0.6803 - accuracy: 0.4545 - val_loss: 0.6611 - val_accuracy: 0.4455\n",
            "Epoch 3/100\n",
            "2/2 [==============================] - 2s 1s/step - loss: 0.6505 - accuracy: 0.4455 - val_loss: 0.5882 - val_accuracy: 0.4455\n",
            "Epoch 4/100\n",
            "2/2 [==============================] - 1s 882ms/step - loss: 0.5625 - accuracy: 0.4455 - val_loss: 0.5114 - val_accuracy: 0.4455\n",
            "Epoch 5/100\n",
            "2/2 [==============================] - 2s 1s/step - loss: 0.5206 - accuracy: 0.4455 - val_loss: 0.5183 - val_accuracy: 0.4455\n",
            "Epoch 6/100\n",
            "2/2 [==============================] - 2s 1s/step - loss: 0.5259 - accuracy: 0.4455 - val_loss: 0.5041 - val_accuracy: 0.4455\n",
            "Epoch 7/100\n",
            "2/2 [==============================] - 4s 2s/step - loss: 0.5054 - accuracy: 0.4364 - val_loss: 0.4963 - val_accuracy: 0.4455\n",
            "Epoch 8/100\n",
            "2/2 [==============================] - 2s 1s/step - loss: 0.4950 - accuracy: 0.4455 - val_loss: 0.4958 - val_accuracy: 0.4455\n",
            "Epoch 9/100\n",
            "2/2 [==============================] - 2s 1s/step - loss: 0.4995 - accuracy: 0.4364 - val_loss: 0.4957 - val_accuracy: 0.4455\n",
            "Epoch 10/100\n",
            "2/2 [==============================] - 2s 1s/step - loss: 0.4986 - accuracy: 0.4455 - val_loss: 0.4955 - val_accuracy: 0.4455\n",
            "Epoch 11/100\n",
            "2/2 [==============================] - 2s 1s/step - loss: 0.5017 - accuracy: 0.4455 - val_loss: 0.4943 - val_accuracy: 0.4455\n",
            "Epoch 12/100\n",
            "2/2 [==============================] - 2s 1s/step - loss: 0.4926 - accuracy: 0.4364 - val_loss: 0.4928 - val_accuracy: 0.4455\n",
            "Epoch 13/100\n",
            "2/2 [==============================] - 2s 1s/step - loss: 0.4904 - accuracy: 0.4455 - val_loss: 0.4919 - val_accuracy: 0.4455\n",
            "Epoch 14/100\n",
            "2/2 [==============================] - 3s 2s/step - loss: 0.4957 - accuracy: 0.4455 - val_loss: 0.4916 - val_accuracy: 0.4455\n",
            "Epoch 15/100\n",
            "2/2 [==============================] - 2s 1s/step - loss: 0.5002 - accuracy: 0.4273 - val_loss: 0.4916 - val_accuracy: 0.4455\n",
            "Epoch 16/100\n",
            "2/2 [==============================] - 1s 799ms/step - loss: 0.4949 - accuracy: 0.4636 - val_loss: 0.4917 - val_accuracy: 0.4455\n",
            "Epoch 17/100\n",
            "2/2 [==============================] - 1s 755ms/step - loss: 0.4924 - accuracy: 0.4455 - val_loss: 0.4919 - val_accuracy: 0.4455\n",
            "Epoch 18/100\n",
            "2/2 [==============================] - 1s 691ms/step - loss: 0.4925 - accuracy: 0.4364 - val_loss: 0.4917 - val_accuracy: 0.4455\n",
            "Epoch 19/100\n",
            "2/2 [==============================] - 1s 708ms/step - loss: 0.4915 - accuracy: 0.4364 - val_loss: 0.4912 - val_accuracy: 0.4455\n",
            "Epoch 20/100\n",
            "2/2 [==============================] - 1s 706ms/step - loss: 0.4935 - accuracy: 0.4455 - val_loss: 0.4909 - val_accuracy: 0.4455\n",
            "Epoch 21/100\n",
            "2/2 [==============================] - 1s 827ms/step - loss: 0.4926 - accuracy: 0.4273 - val_loss: 0.4907 - val_accuracy: 0.4455\n",
            "Epoch 22/100\n",
            "2/2 [==============================] - 2s 1s/step - loss: 0.4900 - accuracy: 0.4455 - val_loss: 0.4905 - val_accuracy: 0.4455\n",
            "Epoch 23/100\n",
            "2/2 [==============================] - 2s 1s/step - loss: 0.4939 - accuracy: 0.4455 - val_loss: 0.4905 - val_accuracy: 0.4455\n",
            "Epoch 24/100\n",
            "2/2 [==============================] - 3s 2s/step - loss: 0.4956 - accuracy: 0.4455 - val_loss: 0.4905 - val_accuracy: 0.4455\n",
            "Epoch 25/100\n",
            "2/2 [==============================] - 2s 1s/step - loss: 0.4926 - accuracy: 0.4455 - val_loss: 0.4903 - val_accuracy: 0.4455\n",
            "Epoch 26/100\n",
            "2/2 [==============================] - 2s 1s/step - loss: 0.4892 - accuracy: 0.4455 - val_loss: 0.4902 - val_accuracy: 0.4455\n",
            "Epoch 27/100\n",
            "2/2 [==============================] - 3s 2s/step - loss: 0.4927 - accuracy: 0.4455 - val_loss: 0.4902 - val_accuracy: 0.4455\n",
            "Epoch 28/100\n",
            "2/2 [==============================] - 3s 2s/step - loss: 0.4954 - accuracy: 0.4455 - val_loss: 0.4900 - val_accuracy: 0.4455\n",
            "Epoch 29/100\n",
            "2/2 [==============================] - 3s 2s/step - loss: 0.4932 - accuracy: 0.4455 - val_loss: 0.4895 - val_accuracy: 0.4455\n",
            "Epoch 30/100\n",
            "2/2 [==============================] - 3s 2s/step - loss: 0.4926 - accuracy: 0.4455 - val_loss: 0.4891 - val_accuracy: 0.4455\n",
            "Epoch 31/100\n",
            "2/2 [==============================] - 2s 1s/step - loss: 0.4910 - accuracy: 0.4455 - val_loss: 0.4888 - val_accuracy: 0.4455\n",
            "Epoch 32/100\n",
            "2/2 [==============================] - 2s 1s/step - loss: 0.4890 - accuracy: 0.4455 - val_loss: 0.4883 - val_accuracy: 0.4455\n",
            "Epoch 33/100\n",
            "2/2 [==============================] - 2s 1s/step - loss: 0.4913 - accuracy: 0.4455 - val_loss: 0.4877 - val_accuracy: 0.4455\n",
            "Epoch 34/100\n",
            "2/2 [==============================] - 2s 1s/step - loss: 0.4936 - accuracy: 0.4364 - val_loss: 0.4870 - val_accuracy: 0.4455\n",
            "Epoch 35/100\n",
            "2/2 [==============================] - 1s 839ms/step - loss: 0.4891 - accuracy: 0.4364 - val_loss: 0.4862 - val_accuracy: 0.4455\n",
            "Epoch 36/100\n",
            "2/2 [==============================] - 2s 1s/step - loss: 0.4910 - accuracy: 0.4545 - val_loss: 0.4852 - val_accuracy: 0.4455\n",
            "Epoch 37/100\n",
            "2/2 [==============================] - 3s 2s/step - loss: 0.4848 - accuracy: 0.4455 - val_loss: 0.4840 - val_accuracy: 0.4455\n",
            "Epoch 38/100\n",
            "2/2 [==============================] - 3s 2s/step - loss: 0.4838 - accuracy: 0.4455 - val_loss: 0.4821 - val_accuracy: 0.4455\n",
            "Epoch 39/100\n",
            "2/2 [==============================] - 1s 839ms/step - loss: 0.4860 - accuracy: 0.4545 - val_loss: 0.4795 - val_accuracy: 0.4455\n",
            "Epoch 40/100\n",
            "2/2 [==============================] - 2s 1s/step - loss: 0.4839 - accuracy: 0.4455 - val_loss: 0.4759 - val_accuracy: 0.4455\n",
            "Epoch 41/100\n",
            "2/2 [==============================] - 1s 852ms/step - loss: 0.4767 - accuracy: 0.4364 - val_loss: 0.4707 - val_accuracy: 0.4455\n",
            "Epoch 42/100\n",
            "2/2 [==============================] - 2s 1s/step - loss: 0.4706 - accuracy: 0.4455 - val_loss: 0.4634 - val_accuracy: 0.4455\n",
            "Epoch 43/100\n",
            "2/2 [==============================] - 2s 1s/step - loss: 0.4667 - accuracy: 0.4455 - val_loss: 0.4532 - val_accuracy: 0.4545\n",
            "Epoch 44/100\n",
            "2/2 [==============================] - 2s 1s/step - loss: 0.4492 - accuracy: 0.4636 - val_loss: 0.4406 - val_accuracy: 0.6273\n",
            "Epoch 45/100\n",
            "2/2 [==============================] - 2s 1s/step - loss: 0.4413 - accuracy: 0.5909 - val_loss: 0.4182 - val_accuracy: 0.6273\n",
            "Epoch 46/100\n",
            "2/2 [==============================] - 2s 2s/step - loss: 0.4265 - accuracy: 0.5636 - val_loss: 0.4706 - val_accuracy: 0.3636\n",
            "Epoch 47/100\n",
            "2/2 [==============================] - 2s 926ms/step - loss: 0.4553 - accuracy: 0.5273 - val_loss: 0.3948 - val_accuracy: 0.7273\n",
            "Epoch 48/100\n",
            "2/2 [==============================] - 1s 754ms/step - loss: 0.4001 - accuracy: 0.6545 - val_loss: 0.3992 - val_accuracy: 0.5727\n",
            "Epoch 49/100\n",
            "2/2 [==============================] - 1s 764ms/step - loss: 0.3980 - accuracy: 0.5545 - val_loss: 0.3785 - val_accuracy: 0.6455\n",
            "Epoch 50/100\n",
            "2/2 [==============================] - 2s 1s/step - loss: 0.3753 - accuracy: 0.6636 - val_loss: 0.3571 - val_accuracy: 0.7727\n",
            "Epoch 51/100\n",
            "2/2 [==============================] - 1s 823ms/step - loss: 0.3594 - accuracy: 0.7818 - val_loss: 0.3479 - val_accuracy: 0.7727\n",
            "Epoch 52/100\n",
            "2/2 [==============================] - 2s 1s/step - loss: 0.3509 - accuracy: 0.7364 - val_loss: 0.3263 - val_accuracy: 0.7818\n",
            "Epoch 53/100\n",
            "2/2 [==============================] - 1s 787ms/step - loss: 0.3269 - accuracy: 0.7636 - val_loss: 0.3148 - val_accuracy: 0.7727\n",
            "Epoch 54/100\n",
            "2/2 [==============================] - 2s 1s/step - loss: 0.3206 - accuracy: 0.7455 - val_loss: 0.3021 - val_accuracy: 0.7909\n",
            "Epoch 55/100\n",
            "2/2 [==============================] - 2s 1s/step - loss: 0.3020 - accuracy: 0.7909 - val_loss: 0.2897 - val_accuracy: 0.8000\n",
            "Epoch 56/100\n",
            "2/2 [==============================] - 2s 989ms/step - loss: 0.2955 - accuracy: 0.8000 - val_loss: 0.2800 - val_accuracy: 0.7909\n",
            "Epoch 57/100\n",
            "2/2 [==============================] - 1s 766ms/step - loss: 0.2890 - accuracy: 0.7909 - val_loss: 0.2693 - val_accuracy: 0.8182\n",
            "Epoch 58/100\n",
            "2/2 [==============================] - 2s 1s/step - loss: 0.2725 - accuracy: 0.8273 - val_loss: 0.2607 - val_accuracy: 0.8182\n",
            "Epoch 59/100\n",
            "2/2 [==============================] - 2s 1s/step - loss: 0.2614 - accuracy: 0.8182 - val_loss: 0.2507 - val_accuracy: 0.8273\n",
            "Epoch 60/100\n",
            "2/2 [==============================] - 2s 1s/step - loss: 0.2520 - accuracy: 0.8273 - val_loss: 0.2410 - val_accuracy: 0.8273\n",
            "Epoch 61/100\n",
            "2/2 [==============================] - 2s 1s/step - loss: 0.2384 - accuracy: 0.8182 - val_loss: 0.2336 - val_accuracy: 0.8091\n",
            "Epoch 62/100\n",
            "2/2 [==============================] - 1s 739ms/step - loss: 0.2384 - accuracy: 0.7909 - val_loss: 0.2248 - val_accuracy: 0.8273\n",
            "Epoch 63/100\n",
            "2/2 [==============================] - 3s 2s/step - loss: 0.2272 - accuracy: 0.8273 - val_loss: 0.2198 - val_accuracy: 0.8273\n",
            "Epoch 64/100\n",
            "2/2 [==============================] - 2s 1s/step - loss: 0.2221 - accuracy: 0.8091 - val_loss: 0.2130 - val_accuracy: 0.8273\n",
            "Epoch 65/100\n",
            "2/2 [==============================] - 2s 1s/step - loss: 0.2155 - accuracy: 0.8273 - val_loss: 0.2117 - val_accuracy: 0.8273\n",
            "Epoch 66/100\n",
            "2/2 [==============================] - 1s 771ms/step - loss: 0.2139 - accuracy: 0.8273 - val_loss: 0.2003 - val_accuracy: 0.8182\n",
            "Epoch 67/100\n",
            "2/2 [==============================] - 1s 744ms/step - loss: 0.2034 - accuracy: 0.8273 - val_loss: 0.2002 - val_accuracy: 0.8000\n",
            "Epoch 68/100\n",
            "2/2 [==============================] - 1s 789ms/step - loss: 0.1989 - accuracy: 0.8000 - val_loss: 0.1900 - val_accuracy: 0.8273\n",
            "Epoch 69/100\n",
            "2/2 [==============================] - 2s 1s/step - loss: 0.1927 - accuracy: 0.8182 - val_loss: 0.1898 - val_accuracy: 0.8364\n",
            "Epoch 70/100\n",
            "2/2 [==============================] - 1s 730ms/step - loss: 0.1933 - accuracy: 0.8364 - val_loss: 0.1800 - val_accuracy: 0.8182\n",
            "Epoch 71/100\n",
            "2/2 [==============================] - 2s 1s/step - loss: 0.1849 - accuracy: 0.8091 - val_loss: 0.1745 - val_accuracy: 0.8091\n",
            "Epoch 72/100\n",
            "2/2 [==============================] - 2s 1s/step - loss: 0.1741 - accuracy: 0.8182 - val_loss: 0.1680 - val_accuracy: 0.8273\n",
            "Epoch 73/100\n",
            "2/2 [==============================] - 3s 2s/step - loss: 0.1734 - accuracy: 0.8273 - val_loss: 0.1619 - val_accuracy: 0.8364\n",
            "Epoch 74/100\n",
            "2/2 [==============================] - 2s 753ms/step - loss: 0.1603 - accuracy: 0.8364 - val_loss: 0.1575 - val_accuracy: 0.8364\n",
            "Epoch 75/100\n",
            "2/2 [==============================] - 1s 757ms/step - loss: 0.1640 - accuracy: 0.8091 - val_loss: 0.1494 - val_accuracy: 0.8364\n",
            "Epoch 76/100\n",
            "2/2 [==============================] - 2s 1s/step - loss: 0.1525 - accuracy: 0.8182 - val_loss: 0.1421 - val_accuracy: 0.8364\n",
            "Epoch 77/100\n",
            "2/2 [==============================] - 1s 772ms/step - loss: 0.1529 - accuracy: 0.8273 - val_loss: 0.1348 - val_accuracy: 0.8182\n",
            "Epoch 78/100\n",
            "2/2 [==============================] - 2s 1s/step - loss: 0.1410 - accuracy: 0.8091 - val_loss: 0.1333 - val_accuracy: 0.8000\n",
            "Epoch 79/100\n",
            "2/2 [==============================] - 1s 748ms/step - loss: 0.1327 - accuracy: 0.8182 - val_loss: 0.1203 - val_accuracy: 0.8455\n",
            "Epoch 80/100\n",
            "2/2 [==============================] - 2s 1s/step - loss: 0.1272 - accuracy: 0.8364 - val_loss: 0.1148 - val_accuracy: 0.9000\n",
            "Epoch 81/100\n",
            "2/2 [==============================] - 2s 1s/step - loss: 0.1188 - accuracy: 0.9000 - val_loss: 0.1099 - val_accuracy: 0.8364\n",
            "Epoch 82/100\n",
            "2/2 [==============================] - 2s 1s/step - loss: 0.1130 - accuracy: 0.8636 - val_loss: 0.1003 - val_accuracy: 0.8545\n",
            "Epoch 83/100\n",
            "2/2 [==============================] - 2s 838ms/step - loss: 0.1035 - accuracy: 0.8727 - val_loss: 0.0949 - val_accuracy: 0.9182\n",
            "Epoch 84/100\n",
            "2/2 [==============================] - 1s 698ms/step - loss: 0.1025 - accuracy: 0.9000 - val_loss: 0.0844 - val_accuracy: 0.9091\n",
            "Epoch 85/100\n",
            "2/2 [==============================] - 1s 711ms/step - loss: 0.0882 - accuracy: 0.9091 - val_loss: 0.0835 - val_accuracy: 0.8909\n",
            "Epoch 86/100\n",
            "2/2 [==============================] - 1s 697ms/step - loss: 0.0848 - accuracy: 0.8818 - val_loss: 0.0727 - val_accuracy: 0.9273\n",
            "Epoch 87/100\n",
            "2/2 [==============================] - 1s 673ms/step - loss: 0.0802 - accuracy: 0.9000 - val_loss: 0.0673 - val_accuracy: 0.9364\n",
            "Epoch 88/100\n",
            "2/2 [==============================] - 1s 714ms/step - loss: 0.0747 - accuracy: 0.9273 - val_loss: 0.0629 - val_accuracy: 0.9091\n",
            "Epoch 89/100\n",
            "2/2 [==============================] - 1s 716ms/step - loss: 0.0681 - accuracy: 0.9182 - val_loss: 0.0581 - val_accuracy: 0.9364\n",
            "Epoch 90/100\n",
            "2/2 [==============================] - 1s 704ms/step - loss: 0.0624 - accuracy: 0.9364 - val_loss: 0.0557 - val_accuracy: 0.9636\n",
            "Epoch 91/100\n",
            "2/2 [==============================] - 1s 680ms/step - loss: 0.0593 - accuracy: 0.9636 - val_loss: 0.0521 - val_accuracy: 0.9091\n",
            "Epoch 92/100\n",
            "2/2 [==============================] - 2s 1s/step - loss: 0.0568 - accuracy: 0.9182 - val_loss: 0.0539 - val_accuracy: 0.9182\n",
            "Epoch 93/100\n",
            "2/2 [==============================] - 3s 2s/step - loss: 0.0589 - accuracy: 0.9182 - val_loss: 0.0491 - val_accuracy: 0.9455\n",
            "Epoch 94/100\n",
            "2/2 [==============================] - 2s 1s/step - loss: 0.0535 - accuracy: 0.9545 - val_loss: 0.0429 - val_accuracy: 0.9636\n",
            "Epoch 95/100\n",
            "2/2 [==============================] - 2s 1s/step - loss: 0.0485 - accuracy: 0.9545 - val_loss: 0.0420 - val_accuracy: 0.9545\n",
            "Epoch 96/100\n",
            "2/2 [==============================] - 2s 1s/step - loss: 0.0453 - accuracy: 0.9636 - val_loss: 0.0361 - val_accuracy: 0.9545\n",
            "Epoch 97/100\n",
            "2/2 [==============================] - 2s 1s/step - loss: 0.0390 - accuracy: 0.9545 - val_loss: 0.0358 - val_accuracy: 0.9182\n",
            "Epoch 98/100\n",
            "2/2 [==============================] - 2s 902ms/step - loss: 0.0405 - accuracy: 0.9364 - val_loss: 0.0348 - val_accuracy: 0.9182\n",
            "Epoch 99/100\n",
            "2/2 [==============================] - 2s 1s/step - loss: 0.0381 - accuracy: 0.9364 - val_loss: 0.0312 - val_accuracy: 0.9273\n",
            "Epoch 100/100\n",
            "2/2 [==============================] - 3s 2s/step - loss: 0.0321 - accuracy: 0.9273 - val_loss: 0.0284 - val_accuracy: 0.9545\n"
          ]
        }
      ],
      "source": [
        "history=model.fit(x_train,y_train, validation_data=(x_test,y_test), epochs=100, batch_size=64)"
      ]
    },
    {
      "cell_type": "code",
      "execution_count": 54,
      "metadata": {
        "id": "hhbBb60-KNgI",
        "colab": {
          "base_uri": "https://localhost:8080/"
        },
        "outputId": "23eddbde-cee4-4db7-f3cb-cc1969377d33"
      },
      "outputs": [
        {
          "output_type": "stream",
          "name": "stdout",
          "text": [
            "2/2 - 0s - loss: 0.0284 - accuracy: 0.9545 - 373ms/epoch - 187ms/step\n"
          ]
        },
        {
          "output_type": "execute_result",
          "data": {
            "text/plain": [
              "[0.02841942571103573, 0.9545454382896423]"
            ]
          },
          "metadata": {},
          "execution_count": 54
        }
      ],
      "source": [
        "model.evaluate(x_test, y_test, batch_size=64, verbose=2)"
      ]
    },
    {
      "cell_type": "code",
      "execution_count": 55,
      "metadata": {
        "id": "MrlmRpUIL1dV",
        "colab": {
          "base_uri": "https://localhost:8080/",
          "height": 927
        },
        "outputId": "180009d7-6b92-4bfd-9848-bd32e1c27bf3"
      },
      "outputs": [
        {
          "output_type": "display_data",
          "data": {
            "text/plain": [
              "<Figure size 640x480 with 1 Axes>"
            ],
            "image/png": "[encoded data removed]"
          },
          "metadata": {}
        },
        {
          "output_type": "display_data",
          "data": {
            "text/plain": [
              "<Figure size 640x480 with 1 Axes>"
            ],
            "image/png": "[encoded data removed]"
          },
          "metadata": {}
        }
      ],
      "source": [
        "plt.plot(history.history['accuracy'])\n",
        "plt.plot(history.history['val_accuracy'])\n",
        "\n",
        "plt.title('Model Accuracy')\n",
        "plt.ylabel('Accuracy')\n",
        "plt.xlabel('Epoch')\n",
        "plt.legend(['train', 'test'], loc='upper left')\n",
        "plt.show()\n",
        "\n",
        "plt.plot(history.history['loss'])\n",
        "plt.plot(history.history['val_loss'])\n",
        "\n",
        "plt.title('Model Loss')\n",
        "plt.ylabel('Loss')\n",
        "plt.xlabel('Epoch')\n",
        "plt.legend(['train', 'test'], loc='upper left')\n",
        "plt.show()"
      ]
    },
    {
      "cell_type": "code",
      "execution_count": 56,
      "metadata": {
        "id": "B8Z5y2q7KVEt"
      },
      "outputs": [],
      "source": [
        "model.save('STORYVERSE.h5')"
      ]
    },
    {
      "cell_type": "code",
      "execution_count": 57,
      "metadata": {
        "id": "-6KQdDIjKkrP"
      },
      "outputs": [],
      "source": [
        "from keras.models import load_model\n",
        "\n",
        "# To load the model\n",
        "model = keras.models.load_model('STORYVERSE.h5')"
      ]
    },
    {
      "cell_type": "code",
      "source": [
        "import json\n",
        "from tensorflow.keras.models import model_from_json\n",
        "\n",
        "# Convert the model to JSON format\n",
        "model_json = model.to_json()\n",
        "\n",
        "# Save the JSON model to a file\n",
        "with open('/content/drive/MyDrive/STORYVERSE.json', 'w') as json_file:\n",
        "    json_file.write(model_json)\n",
        "\n",
        "print(\"Model saved in JSON format.\")"
      ],
      "metadata": {
        "colab": {
          "base_uri": "https://localhost:8080/"
        },
        "id": "lmcobesZXDcx",
        "outputId": "b7eda506-fdaf-4de1-dc04-79675416d5bd"
      },
      "execution_count": 58,
      "outputs": [
        {
          "output_type": "stream",
          "name": "stdout",
          "text": [
            "Model saved in JSON format.\n"
          ]
        }
      ]
    },
    {
      "cell_type": "code",
      "source": [
        "import shutil\n",
        "\n",
        "# Specify the source file path\n",
        "source_file_path = \"/content/STORYVERSE.h5\"\n",
        "\n",
        "# Specify the destination file path\n",
        "destination_file_path = \"/content/drive/MyDrive/STORYVERSE.h5\"\n",
        "\n",
        "# Copy the file to the destination\n",
        "shutil.copyfile(source_file_path, destination_file_path)\n",
        "\n",
        "print(\"H5 file downloaded successfully.\")\n"
      ],
      "metadata": {
        "id": "jpHluxMdapRM",
        "outputId": "1226578b-9b11-4638-8edb-d65ee2b76300",
        "colab": {
          "base_uri": "https://localhost:8080/"
        }
      },
      "execution_count": 59,
      "outputs": [
        {
          "output_type": "stream",
          "name": "stdout",
          "text": [
            "H5 file downloaded successfully.\n"
          ]
        }
      ]
    },
    {
      "cell_type": "code",
      "source": [
        "# Melakukan pemfilteran dan penghapusan nilai-nilai null pada dataframe\n",
        "category = dataframe[\"Title\"] != \"\"\n",
        "dataframe = dataframe[category]\n",
        "dataframe = dataframe.dropna()\n",
        "\n",
        "# Memilih indeks pada dataset untuk menampilkan hasil\n",
        "index = 52\n",
        "\n",
        "# Mengambil informasi judul pada indeks \n",
        "title = dataframe[\"Title\"].iloc[index]\n",
        "\n",
        "# Mengubah judul menjadi input yang sesuai dengan tokenizer\n",
        "title_sequence = tokenizer.texts_to_sequences([title])\n",
        "title_sequence = sequence.pad_sequences(title_sequence, maxlen=110)\n",
        "\n",
        "# Melakukan prediksi menggunakan model yang telah dilatih\n",
        "prediction = model.predict(title_sequence)\n",
        "\n",
        "# Menentukan kategori dengan nilai probabilitas tertinggi \n",
        "kategori_tertinggi = np.argsort(prediction)[0][-2:]\n",
        "kategori = [y_fields[k] for k in kategori_tertinggi]\n",
        "\n",
        "# Menampilkan hasil\n",
        "print(\"Judul:\", title)\n",
        "print(\"Kategori:\", kategori)"
      ],
      "metadata": {
        "colab": {
          "base_uri": "https://localhost:8080/"
        },
        "id": "zxtlp57e36MN",
        "outputId": "61768b02-f353-4f22-c912-3c3940ad0513"
      },
      "execution_count": 60,
      "outputs": [
        {
          "output_type": "stream",
          "name": "stdout",
          "text": [
            "1/1 [==============================] - 1s 1s/step\n",
            "Judul: Pengalaman Saya Selama Menjadi UX Designer Intern di Blibli.com\n",
            "Kategori: ['Profesi', 'Pengalaman Pribadi']\n"
          ]
        }
      ]
    },
    {
      "cell_type": "markdown",
      "metadata": {
        "id": "3qFbyUUGVetI"
      },
      "source": [
        "# Rekomendasi judul untuk satu kategori"
      ]
    },
    {
      "cell_type": "code",
      "execution_count": 61,
      "metadata": {
        "id": "Zs-ZKhc0uce_",
        "colab": {
          "base_uri": "https://localhost:8080/"
        },
        "outputId": "5d459b86-ddcf-4d40-bebf-da6066848416"
      },
      "outputs": [
        {
          "output_type": "stream",
          "name": "stdout",
          "text": [
            "1/1 [==============================] - 0s 103ms/step\n",
            "Menjadi Programmer dalam 6 Bulan (Pengalaman Pribadi)\n",
            "Mengapa Saya Meninggalkan Go-Jek, Unicorn Start up Indonesia\n",
            "Bagaimana Memulai Startup di Indonesia?\n",
            "Pentingnya Profesionalisme di Industri Start Up\n",
            "Designer *katanya\n",
            "Menjalankan Bisnis Ala Introvert\n",
            "Goodbye, Data Analyst\n",
            "Pengalaman Kerja: 3 Tahun Sebagai Programmer\n",
            "Pengalaman Jadi Content Writer, Seru Gak Sih?\n",
            "Berapa Gaji Yoel?\n",
            "Pengalaman Saya Selama Menjadi UX Designer Intern di Blibli.com\n",
            "How to Find Confidence in Your Career Path\n",
            "How to Become an Employee Benefits Professional\n",
            "The Secrets of a Successful Internship\n",
            "Pengalaman Kerja Sebagai Programmer di Salah Satu Klien Glints Batam\n",
            "Pengalaman pindah haluan karir menjadi UX Designer atau Product Designer\n",
            "Mengatur Ritme Pekerjaan\n",
            "Menjadi Penulis Mobile\n"
          ]
        }
      ],
      "source": [
        "# Membuat fungsi untuk merekomendasikan judul berdasarkan kategori-kategori menggunakan model pelatihan\n",
        "def recommend_titles(categories):\n",
        "    # Mengambil judul-judul dengan kategori-kategori yang diberikan\n",
        "    category_titles = dataframe[dataframe[categories].all(axis=1)]['Title']\n",
        "    \n",
        "    # Mengubah judul-judul menjadi input yang sesuai dengan tokenizer\n",
        "    title_sequences = tokenizer.texts_to_sequences(category_titles)\n",
        "    title_sequences = sequence.pad_sequences(title_sequences, maxlen=110)\n",
        "    \n",
        "    # Melakukan prediksi menggunakan model yang telah dilatih\n",
        "    predictions = model.predict(title_sequences)\n",
        "    \n",
        "    # Menampilkan judul-judul yang memiliki semua kategori yang diberikan\n",
        "    for i in range(len(category_titles)):\n",
        "        title = category_titles.iloc[i]\n",
        "        print(title)\n",
        "\n",
        "# Contoh penggunaan: merekomendasikan judul-judul berdasarkan kategori\n",
        "recommend_titles([\"Profesi\"])"
      ]
    },
    {
      "cell_type": "markdown",
      "metadata": {
        "id": "2c16nqdN1c5C"
      },
      "source": [
        "# Rekomendasi judul untuk Lebih dari 2 Category"
      ]
    },
    {
      "cell_type": "code",
      "source": [
        "# Membuat fungsi untuk merekomendasikan judul berdasarkan kategori-kategori menggunakan model pelatihan\n",
        "def recommend_titles(categories):\n",
        "    # Mengambil judul-judul dengan kategori-kategori yang diberikan\n",
        "    category_titles = dataframe[dataframe[categories].any(axis=1)]['Title']\n",
        "    \n",
        "    # Mengubah judul-judul menjadi input yang sesuai dengan tokenizer\n",
        "    title_sequences = tokenizer.texts_to_sequences(category_titles)\n",
        "    title_sequences = sequence.pad_sequences(title_sequences, maxlen=110)\n",
        "    \n",
        "    # Melakukan prediksi menggunakan model yang telah dilatih\n",
        "    predictions = model.predict(title_sequences)\n",
        "    \n",
        "    # Menampilkan judul-judul yang memiliki salah satu atau kedua kategori yang diberikan\n",
        "    for i in range(len(category_titles)):\n",
        "        title = category_titles.iloc[i]\n",
        "        print(title)\n",
        "recommend_titles([\"Pengalaman Pribadi\", \"Profesi\"])"
      ],
      "metadata": {
        "colab": {
          "base_uri": "https://localhost:8080/"
        },
        "id": "85ZZmYp12uwf",
        "outputId": "8de2a979-e0b7-48b4-8a08-6ddd58468368"
      },
      "execution_count": 62,
      "outputs": [
        {
          "output_type": "stream",
          "name": "stdout",
          "text": [
            "2/2 [==============================] - 0s 148ms/step\n",
            "Reflections as a Senior: My Favorite Moments\n",
            "The Transformative Power of a Bachelor’s Degree\n",
            "Managing stress in College Academics\n",
            "My college experience\n",
            "Pengalaman Memulai Jualan Pisang\n",
            "Things I regret when I was in college\n",
            "How I Finally Figured Out What To Major In During College\n",
            "How College Students Can Use ChatGPT to 10x Productivity\n",
            "Menjadi Programmer dalam 6 Bulan (Pengalaman Pribadi)\n",
            "Other People’s Perceptions of Me Trigger Negative Thoughts\n",
            "My Medication Throughout Treatment Changed\n",
            "Eating Disorder Treatments that Didn't Work for Me\n",
            "Mengapa Saya Meninggalkan Go-Jek, Unicorn Start up Indonesia\n",
            "Bagaimana Memulai Startup di Indonesia?\n",
            "Bertransaksi Online Menggunakan Kartu Kredit Indonesia Sangatlah Aman\n",
            "Pentingnya Profesionalisme di Industri Start Up\n",
            "Designer *katanya\n",
            "Menjalankan Bisnis Ala Introvert\n",
            "Skripsi Adalah Seni\n",
            "Goodbye, Data Analyst\n",
            "Pengalaman Kerja: 3 Tahun Sebagai Programmer\n",
            "Pengalaman Jadi Content Writer, Seru Gak Sih?\n",
            "Berapa Gaji Yoel?\n",
            "7 Kelakuan Bodoh yang Nggak Gue Sesali Selama Kuliah\n",
            "Pengalaman Saya Selama Menjadi UX Designer Intern di Blibli.com\n",
            "Belajar Skill Ga Harus Lewat Kuliah\n",
            "Kata-kata itu sebenernya tidak bisa menyakiti\n",
            "I’m Slowly Learning That I Don’t Have To React To Everything That Bothers Me\n",
            "The Best Revenge Is Self-Love\n",
            "Chase Your Dreams Today, Not Tomorrow\n",
            "It’s Okay To Feel Deeply\n",
            "10 Ways to Be Eco Friendly as a College Student\n",
            "How to Find Confidence in Your Career Path\n",
            "5 Pre-Finals Rituals to Follow for Optimum Study Time\n",
            "A Guide to Double-Majoring\n",
            "I Graduated College and Felt Nothing\n",
            "How Graduation is Causing Me a (Good) Existential Crisis\n",
            "So I Moved Back Home After Graduation…\n",
            "How I Managed to Study on Spring Break\n",
            "How to Become an Employee Benefits Professional\n",
            "The Secrets of a Successful Internship\n",
            "10 Tips on Making Lasting Friendships in the Classroom\n",
            "“What’s Your Major?”\n",
            "The Teacher I Hated Changed my College Journey\n",
            "Avoid College Application Regrets: Tips For Getting It Right the First Time\n",
            "Why Duke University Stood Out To Me\n",
            "What Is A Good High School GPA For Top Colleges?\n",
            "A Year of Purpose: Exploring the Gap Year Option\n",
            "8 of the Best Liberal Arts Colleges: Webinar Recap\n",
            "Pengalaman Kerja Sebagai Programmer di Salah Satu Klien Glints Batam\n",
            "Mencatat Pengalaman Kerja\n",
            "Pengalaman pindah haluan karir menjadi UX Designer atau Product Designer\n",
            "Mengatur Ritme Pekerjaan\n",
            "Menjadi Penulis Mobile\n",
            "Cinta Mengalahkan Agama? My love story in a phase.\n",
            "Pengalaman Pertama Menyapa Rinjani via Jalur Aik Berik\n",
            "Sharing Pengalaman Meraih Mimpi Kuliah di Jepang dengan Beasiswa\n"
          ]
        }
      ]
    }
  ]
}